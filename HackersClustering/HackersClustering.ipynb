{
  "cells": [
    {
      "cell_type": "markdown",
      "metadata": {
        "id": "64M4OEqKTnej"
      },
      "source": [
        "A large technology firm needs your help, they've been hacked! Luckily their forensic engineers have grabbed valuable data about the hacks, including information like session time,locations, wpm typing speed, etc. The forensic engineer relates to you what she has been able to figure out so far, she has been able to grab meta data of each session that the hackers used to connect to their servers. These are the features of the data:\n",
        "\n",
        "* 'Session_Connection_Time': How long the session lasted in minutes\n",
        "* 'Bytes Transferred': Number of MB transferred during session\n",
        "* 'Kali_Trace_Used': Indicates if the hacker was using Kali Linux\n",
        "* 'Servers_Corrupted': Number of server corrupted during the attack\n",
        "* 'Pages_Corrupted': Number of pages illegally accessed\n",
        "* 'Location': Location attack came from (Probably useless because the hackers used VPNs)\n",
        "* 'WPM_Typing_Speed': Their estimated typing speed based on session logs.\n",
        "\n",
        "\n",
        "The technology firm has 3 potential hackers that perpetrated the attack. Their certain of the first two hackers but they aren't very sure if the third hacker was involved or not. They have requested your help! Can you help figure out whether or not the third suspect had anything to do with the attacks, or was it just two hackers? It's probably not possible to know for sure, but maybe what you've just learned about Clustering can help!\n",
        "\n",
        "**One last key fact, the forensic engineer knows that the hackers trade off attacks. Meaning they should each have roughly the same amount of attacks. For example if there were 100 total attacks, then in a 2 hacker situation each should have about 50 hacks, in a three hacker situation each would have about 33 hacks. The engineer believes this is the key element to solving this, but doesn't know how to distinguish this unlabeled data into groups of hackers.**"
      ]
    },
    {
      "cell_type": "code",
      "execution_count": null,
      "metadata": {
        "collapsed": true,
        "id": "kKufMy_rTnen"
      },
      "outputs": [],
      "source": [
        "from pyspark.sql import SparkSession\n",
        "spark = SparkSession.builder.appName('hack_find').getOrCreate()"
      ]
    },
    {
      "cell_type": "code",
      "execution_count": null,
      "metadata": {
        "collapsed": true,
        "id": "0LrF-ZqETneo"
      },
      "outputs": [],
      "source": [
        "from pyspark.ml.clustering import KMeans\n",
        "\n",
        "# Loads data.\n",
        "dataset = spark.read.csv(\"hack_data.csv\",header=True,inferSchema=True)"
      ]
    },
    {
      "cell_type": "code",
      "execution_count": null,
      "metadata": {
        "id": "h9lJLsyQTnep",
        "outputId": "19eaea29-c632-4a87-a1ed-81d7750478fb"
      },
      "outputs": [
        {
          "data": {
            "text/plain": [
              "Row(Session_Connection_Time=8.0, Bytes Transferred=391.09, Kali_Trace_Used=1, Servers_Corrupted=2.96, Pages_Corrupted=7.0, Location='Slovenia', WPM_Typing_Speed=72.37)"
            ]
          },
          "execution_count": 175,
          "metadata": {},
          "output_type": "execute_result"
        }
      ],
      "source": [
        "dataset.head()"
      ]
    },
    {
      "cell_type": "code",
      "execution_count": null,
      "metadata": {
        "id": "lMOghGyKTnep",
        "outputId": "e50bdb9a-8683-4b8c-8a5b-76c363eb2e07"
      },
      "outputs": [
        {
          "name": "stdout",
          "output_type": "stream",
          "text": [
            "+-------+-----------------------+------------------+------------------+-----------------+------------------+------------------+\n",
            "|summary|Session_Connection_Time| Bytes Transferred|   Kali_Trace_Used|Servers_Corrupted|   Pages_Corrupted|  WPM_Typing_Speed|\n",
            "+-------+-----------------------+------------------+------------------+-----------------+------------------+------------------+\n",
            "|  count|                    334|               334|               334|              334|               334|               334|\n",
            "|   mean|     30.008982035928145| 607.2452694610777|0.5119760479041916|5.258502994011977|10.838323353293413|57.342395209580864|\n",
            "| stddev|     14.088200614636158|286.33593163576757|0.5006065264451406| 2.30190693339697|  3.06352633036022| 13.41106336843464|\n",
            "|    min|                    1.0|              10.0|                 0|              1.0|               6.0|              40.0|\n",
            "|    max|                   60.0|            1330.5|                 1|             10.0|              15.0|              75.0|\n",
            "+-------+-----------------------+------------------+------------------+-----------------+------------------+------------------+\n",
            "\n"
          ]
        }
      ],
      "source": [
        "dataset.describe().show()"
      ]
    },
    {
      "cell_type": "code",
      "execution_count": null,
      "metadata": {
        "id": "rcUTvI7_Tneq",
        "outputId": "74a317a6-62ca-43be-8a8d-4a2f7d3259e3"
      },
      "outputs": [
        {
          "data": {
            "text/plain": [
              "Index(['Session_Connection_Time', 'Bytes Transferred', 'Kali_Trace_Used',\n",
              "       'Servers_Corrupted', 'Pages_Corrupted', 'Location', 'WPM_Typing_Speed'],\n",
              "      dtype='object')"
            ]
          },
          "execution_count": 177,
          "metadata": {},
          "output_type": "execute_result"
        }
      ],
      "source": [
        "df.columns"
      ]
    },
    {
      "cell_type": "code",
      "execution_count": null,
      "metadata": {
        "collapsed": true,
        "id": "cR258Fg4Tneq"
      },
      "outputs": [],
      "source": [
        "from pyspark.ml.linalg import Vectors\n",
        "from pyspark.ml.feature import VectorAssembler"
      ]
    },
    {
      "cell_type": "code",
      "execution_count": null,
      "metadata": {
        "collapsed": true,
        "id": "dCAYSRl-Tner"
      },
      "outputs": [],
      "source": [
        "feat_cols = ['Session_Connection_Time', 'Bytes Transferred', 'Kali_Trace_Used',\n",
        "             'Servers_Corrupted', 'Pages_Corrupted','WPM_Typing_Speed']"
      ]
    },
    {
      "cell_type": "code",
      "execution_count": null,
      "metadata": {
        "collapsed": true,
        "id": "bgj6wsw9Tner"
      },
      "outputs": [],
      "source": [
        "vec_assembler = VectorAssembler(inputCols = feat_cols, outputCol='features')"
      ]
    },
    {
      "cell_type": "code",
      "execution_count": null,
      "metadata": {
        "collapsed": true,
        "id": "7QYdElawTner"
      },
      "outputs": [],
      "source": [
        "final_data = vec_assembler.transform(dataset)"
      ]
    },
    {
      "cell_type": "code",
      "execution_count": null,
      "metadata": {
        "collapsed": true,
        "id": "JvC1GUk7Tnes"
      },
      "outputs": [],
      "source": [
        "from pyspark.ml.feature import StandardScaler"
      ]
    },
    {
      "cell_type": "code",
      "execution_count": null,
      "metadata": {
        "collapsed": true,
        "id": "ArU9JJi7Tnes"
      },
      "outputs": [],
      "source": [
        "scaler = StandardScaler(inputCol=\"features\", outputCol=\"scaledFeatures\", withStd=True, withMean=False)"
      ]
    },
    {
      "cell_type": "code",
      "execution_count": null,
      "metadata": {
        "collapsed": true,
        "id": "AKh-fDCDTnes"
      },
      "outputs": [],
      "source": [
        "# Compute summary statistics by fitting the StandardScaler\n",
        "scalerModel = scaler.fit(final_data)"
      ]
    },
    {
      "cell_type": "code",
      "execution_count": null,
      "metadata": {
        "collapsed": true,
        "id": "ucUyLyz0Tnes"
      },
      "outputs": [],
      "source": [
        "# Normalize each feature to have unit standard deviation.\n",
        "cluster_final_data = scalerModel.transform(final_data)"
      ]
    },
    {
      "cell_type": "markdown",
      "metadata": {
        "id": "g9UpJAPFTnes"
      },
      "source": [
        "** Time to find out whether its 2 or 3! **"
      ]
    },
    {
      "cell_type": "code",
      "execution_count": null,
      "metadata": {
        "collapsed": true,
        "id": "T7dd9cPnTnes"
      },
      "outputs": [],
      "source": [
        "kmeans3 = KMeans(featuresCol='scaledFeatures',k=3)\n",
        "kmeans2 = KMeans(featuresCol='scaledFeatures',k=2)"
      ]
    },
    {
      "cell_type": "code",
      "execution_count": null,
      "metadata": {
        "collapsed": true,
        "id": "I1l38gL1Tnes"
      },
      "outputs": [],
      "source": [
        "model_k3 = kmeans3.fit(cluster_final_data)\n",
        "model_k2 = kmeans2.fit(cluster_final_data)"
      ]
    },
    {
      "cell_type": "code",
      "execution_count": null,
      "metadata": {
        "collapsed": true,
        "id": "KDdPhynTTnes"
      },
      "outputs": [],
      "source": [
        "wssse_k3 = model_k3.computeCost(cluster_final_data)\n",
        "wssse_k2 = model_k2.computeCost(cluster_final_data)"
      ]
    },
    {
      "cell_type": "code",
      "execution_count": null,
      "metadata": {
        "id": "AaabRMohTnet",
        "outputId": "b81eafc9-9bec-4eb2-e65f-b8ad50a12c33"
      },
      "outputs": [
        {
          "name": "stdout",
          "output_type": "stream",
          "text": [
            "With K=3\n",
            "Within Set Sum of Squared Errors = 434.1492898715845\n",
            "------------------------------------------------------------\n",
            "With K=2\n",
            "Within Set Sum of Squared Errors = 601.7707512676716\n"
          ]
        }
      ],
      "source": [
        "print(\"With K=3\")\n",
        "print(\"Within Set Sum of Squared Errors = \" + str(wssse_k3))\n",
        "print('--'*30)\n",
        "print(\"With K=2\")\n",
        "print(\"Within Set Sum of Squared Errors = \" + str(wssse_k2))"
      ]
    },
    {
      "cell_type": "markdown",
      "metadata": {
        "id": "KRMJsaKuTnet"
      },
      "source": [
        "Not much to be gained from the WSSSE, after all, we would expect that as K increases, the WSSSE decreases. We could however continue the analysis by seeing the drop from K=3 to K=4 to check if the clustering favors even or odd numbers. This won't be substantial, but its worth a look:"
      ]
    },
    {
      "cell_type": "code",
      "execution_count": null,
      "metadata": {
        "id": "7_I2mDI1Tnet",
        "outputId": "bbc23a1b-1728-4415-c697-793ac4ec220c"
      },
      "outputs": [
        {
          "name": "stdout",
          "output_type": "stream",
          "text": [
            "With K=2\n",
            "Within Set Sum of Squared Errors = 601.7707512676716\n",
            "------------------------------------------------------------\n",
            "With K=3\n",
            "Within Set Sum of Squared Errors = 434.1492898715845\n",
            "------------------------------------------------------------\n",
            "With K=4\n",
            "Within Set Sum of Squared Errors = 267.1336116887891\n",
            "------------------------------------------------------------\n",
            "With K=5\n",
            "Within Set Sum of Squared Errors = 246.44966476509273\n",
            "------------------------------------------------------------\n",
            "With K=6\n",
            "Within Set Sum of Squared Errors = 227.11523291903796\n",
            "------------------------------------------------------------\n",
            "With K=7\n",
            "Within Set Sum of Squared Errors = 208.95468005311722\n",
            "------------------------------------------------------------\n",
            "With K=8\n",
            "Within Set Sum of Squared Errors = 196.20268561839072\n",
            "------------------------------------------------------------\n"
          ]
        }
      ],
      "source": [
        "for k in range(2,9):\n",
        "    kmeans = KMeans(featuresCol='scaledFeatures',k=k)\n",
        "    model = kmeans.fit(cluster_final_data)\n",
        "    wssse = model.computeCost(cluster_final_data)\n",
        "    print(\"With K={}\".format(k))\n",
        "    print(\"Within Set Sum of Squared Errors = \" + str(wssse))\n",
        "    print('--'*30)"
      ]
    },
    {
      "cell_type": "markdown",
      "metadata": {
        "id": "K2Kr3orJTnet"
      },
      "source": [
        "** Nothing definitive can be said with the above, but wait! The last key fact that the engineer mentioned was that the attacks should be evenly numbered between the hackers! Let's check with the transform and prediction columns that result form this! Congratulations if you made this connection, it was quite tricky given what we've covered!**"
      ]
    },
    {
      "cell_type": "code",
      "execution_count": null,
      "metadata": {
        "id": "4CfgyMwbTnet",
        "outputId": "f2c8b711-0ade-4faa-cfa9-0224962bed72"
      },
      "outputs": [
        {
          "name": "stdout",
          "output_type": "stream",
          "text": [
            "+----------+-----+\n",
            "|prediction|count|\n",
            "+----------+-----+\n",
            "|         1|   83|\n",
            "|         2|   84|\n",
            "|         0|  167|\n",
            "+----------+-----+\n",
            "\n"
          ]
        }
      ],
      "source": [
        "model_k3.transform(cluster_final_data).groupBy('prediction').count().show()"
      ]
    },
    {
      "cell_type": "code",
      "execution_count": null,
      "metadata": {
        "id": "dQ0pHCIiTnet",
        "outputId": "c3b1557f-ea2f-456c-9515-2dcdef3241bd"
      },
      "outputs": [
        {
          "name": "stdout",
          "output_type": "stream",
          "text": [
            "+----------+-----+\n",
            "|prediction|count|\n",
            "+----------+-----+\n",
            "|         1|  167|\n",
            "|         0|  167|\n",
            "+----------+-----+\n",
            "\n"
          ]
        }
      ],
      "source": [
        "model_k2.transform(cluster_final_data).groupBy('prediction').count().show()"
      ]
    }
  ],
  "metadata": {
    "anaconda-cloud": {},
    "kernelspec": {
      "display_name": "Python [conda root]",
      "language": "python",
      "name": "conda-root-py"
    },
    "language_info": {
      "codemirror_mode": {
        "name": "ipython",
        "version": 3
      },
      "file_extension": ".py",
      "mimetype": "text/x-python",
      "name": "python",
      "nbconvert_exporter": "python",
      "pygments_lexer": "ipython3",
      "version": "3.5.3"
    },
    "colab": {
      "provenance": []
    }
  },
  "nbformat": 4,
  "nbformat_minor": 0
}